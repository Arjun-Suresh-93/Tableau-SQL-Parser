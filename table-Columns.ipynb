{
 "cells": [
  {
   "cell_type": "code",
   "execution_count": 122,
   "metadata": {},
   "outputs": [],
   "source": [
    "import sqlparse\n",
    "query = \"\"\"SELECT\n",
    "pa.id,\n",
    "pa.token,\n",
    "pa.type,\n",
    "CONVERT_TIMEZONE('PST8PDT', pa.ts) As p_ts,\n",
    "pa.payload,\n",
    "act.event_type,\n",
    "act.ts,\n",
    "visitors.client,\n",
    "visitors.visitor_type\n",
    "FROM posted_activities As pa\n",
    "JOIN visitors ON (pa.token = visitors.token)\n",
    "LEFT JOIN (SELECT * FROM activities WHERE event_type = 'appointment:affirm_checkout_complete' OR event_type = 'appointment:affirm_cancel') As act ON (pa.token = act.token AND DATE_TRUNC('day', CONVERT_TIMEZONE('PST8PDT', pa.ts)) = DATE_TRUNC('day', CONVERT_TIMEZONE('PST8PDT', act.ts)) AND pa.type = 'Checkout requested')\n",
    "WHERE\n",
    "    pa.type = 'Quote Requested'\n",
    "    OR (pa.type = 'Selected payment method' AND pa.payload LIKE '%affirm%')\n",
    "    OR (pa.type = 'Checkout requested' AND pa.payload LIKE '%affirm%')\"\"\""
   ]
  },
  {
   "cell_type": "code",
   "execution_count": 123,
   "metadata": {},
   "outputs": [],
   "source": [
    "parsed = sqlparse.parse(query)"
   ]
  },
  {
   "cell_type": "code",
   "execution_count": 124,
   "metadata": {},
   "outputs": [],
   "source": [
    "dbTables=[]\n",
    "import psycopg2\n",
    "\n",
    "con = psycopg2.connect(dbname='rs_prod',\n",
    "        host='redshift-prod.yourmechanic.com',\n",
    "        port='5439',\n",
    "        user='web_server',\n",
    "        password='inf0Car1')\n",
    "cur = con.cursor()\n",
    "cur.execute(\"\"\"SELECT DISTINCT tablename\n",
    "FROM pg_table_def\n",
    "WHERE schemaname = 'public'\n",
    "ORDER BY tablename;\"\"\")\n",
    "tables = cur.fetchall()\n",
    "cur.close()\n",
    "con.close()\n",
    "for t in tables:\n",
    "    dbTables.append(t[0])\n",
    "del tables"
   ]
  },
  {
   "cell_type": "code",
   "execution_count": 125,
   "metadata": {},
   "outputs": [],
   "source": [
    "queryTokens = parsed[0].tokens\n",
    "tokenQueueOrig=[]\n",
    "tokenQueueStripped=[]\n",
    "for token in queryTokens:\n",
    "    tokenQueueOrig.append(token)\n",
    "while len(tokenQueueOrig) > 0:\n",
    "    token = tokenQueueOrig.pop(0)\n",
    "    if token.is_whitespace != True:\n",
    "        tokenQueueStripped.append(token)\n",
    "    if type(token) != sqlparse.sql.Token:\n",
    "        for t in token:\n",
    "            tokenQueueOrig.append(t)"
   ]
  },
  {
   "cell_type": "code",
   "execution_count": 126,
   "metadata": {},
   "outputs": [],
   "source": [
    "curTableColumns={}\n",
    "tableObjects={}\n",
    "tableAliases={}\n",
    "selectstmts=[]\n",
    "for t in tokenQueueStripped:\n",
    "    if t.ttype == sqlparse.tokens.DML and t.value.lower() == 'select':\n",
    "        selectstmts.append(t)\n",
    "    else:\n",
    "        if t.ttype == sqlparse.tokens.Name and t.value in dbTables:\n",
    "            if t.value not in curTableColumns:\n",
    "                colList=[]\n",
    "                curTableColumns[t.value]=colList\n",
    "            if t.value not in tableObjects:\n",
    "                objectList = [t]\n",
    "                tableObjects[t.value]=objectList\n",
    "            else:\n",
    "                objectList = tableObjects[t.value]\n",
    "                objectList.append(t)\n",
    "            par = t.parent\n",
    "            idenIndex = par.token_index(t)\n",
    "            if idenIndex < len(par.tokens) - 1:\n",
    "                testObj = par.tokens[idenIndex+1]\n",
    "                k=1\n",
    "                while testObj.ttype == sqlparse.tokens.Whitespace or testObj.ttype == sqlparse.tokens.Newline or testObj.ttype == sqlparse.tokens.Keyword:\n",
    "                    testObj = par.tokens[idenIndex+k]\n",
    "                    k+=1\n",
    "                if k == 1 or type(testObj) != sqlparse.sql.Identifier:\n",
    "                    continue\n",
    "                aliasName = testObj\n",
    "                while aliasName.ttype != sqlparse.tokens.Name:\n",
    "                    aliasName = aliasName.tokens[0]\n",
    "                if aliasName.value not in tableAliases:\n",
    "                    tableAliases[aliasName.value] = t.value"
   ]
  },
  {
   "cell_type": "code",
   "execution_count": 127,
   "metadata": {},
   "outputs": [
    {
     "data": {
      "text/plain": [
       "[<DML 'SELECT' at 0x11093B768>, <DML 'SELECT' at 0x110927828>]"
      ]
     },
     "execution_count": 127,
     "metadata": {},
     "output_type": "execute_result"
    }
   ],
   "source": [
    "selectstmts"
   ]
  },
  {
   "cell_type": "code",
   "execution_count": 128,
   "metadata": {},
   "outputs": [],
   "source": [
    "for t in tokenQueueStripped:\n",
    "    if t.ttype == sqlparse.tokens.Name and t.value in tableAliases:\n",
    "        instanceList = tableObjects[tableAliases[t.value]]\n",
    "        instanceList.append(t)"
   ]
  },
  {
   "cell_type": "code",
   "execution_count": 129,
   "metadata": {},
   "outputs": [],
   "source": [
    "tableMetadata={}\n",
    "con = psycopg2.connect(dbname='rs_prod',\n",
    "        host='redshift-prod.yourmechanic.com',\n",
    "        port='5439',\n",
    "        user='web_server',\n",
    "        password='inf0Car1')\n",
    "query = \"\"\"SELECT *\n",
    "FROM pg_table_def\n",
    "WHERE tablename = '{0}'\n",
    "AND schemaname = 'public';\"\"\"\n",
    "cur=con.cursor()\n",
    "for table in tableObjects:\n",
    "    for instance in tableObjects[table]:\n",
    "        par = instance.parent\n",
    "        idenIndex = par.token_index(instance)\n",
    "        if idenIndex < len(par.tokens) - 1:\n",
    "            testObj = par.tokens[idenIndex+1]\n",
    "            if testObj.ttype == sqlparse.tokens.Punctuation and testObj.value == '.':\n",
    "                columnField = par.tokens[idenIndex+2]\n",
    "                columnNames = curTableColumns[table]\n",
    "                if columnField.value in columnNames:\n",
    "                    continue\n",
    "                else:\n",
    "                    columnNames.append(columnField.value)\n",
    "    cur.execute(query.format(table))\n",
    "    columns = cur.fetchall()\n",
    "    columnList=[]\n",
    "    for column in columns:\n",
    "        columnList.append(column[2])\n",
    "    tableMetadata[table]=columnList\n",
    "cur.close()\n",
    "con.close()\n",
    "    "
   ]
  },
  {
   "cell_type": "code",
   "execution_count": 130,
   "metadata": {},
   "outputs": [
    {
     "data": {
      "text/plain": [
       "{'posted_activities': ['id', 'token', 'type', 'payload', 'ts'],\n",
       " 'visitors': ['client', 'visitor_type', 'token'],\n",
       " 'activities': []}"
      ]
     },
     "execution_count": 130,
     "metadata": {},
     "output_type": "execute_result"
    }
   ],
   "source": [
    "curTableColumns"
   ]
  },
  {
   "cell_type": "code",
   "execution_count": 133,
   "metadata": {},
   "outputs": [],
   "source": [
    "def findColumnsRecursively(columnsList, token, metaDataColumnsList, selectstmt):\n",
    "    if token.ttype == sqlparse.tokens.Wildcard:\n",
    "        for field in metaDataColumnsList:\n",
    "            if field not in columnsList:\n",
    "                columnsList.append(field)\n",
    "        return -2\n",
    "    if token.ttype == sqlparse.tokens.DML and token.value.lower() == 'select' and token != selectstmt:\n",
    "        return -1\n",
    "    if type(token) == sqlparse.sql.Token:\n",
    "        if token.value in metaDataColumnsList and token.value not in columnsList:\n",
    "            columnsList.append(token.value)\n",
    "    if type(token) != sqlparse.sql.Token:\n",
    "        for t in token:\n",
    "            val = findColumnsRecursively(columnsList, t, metaDataColumnsList, selectstmt)\n",
    "            if val == -2:\n",
    "                return val\n",
    "            if val == -1:\n",
    "                return 0\n",
    "    return 0\n",
    "\n",
    "\n",
    "for stmt in selectstmts:\n",
    "    subquery = stmt.parent\n",
    "    for token in subquery:\n",
    "        if token.ttype == sqlparse.tokens.Keyword and token.value.lower() == 'from':\n",
    "            break\n",
    "    k=subquery.token_index(token)+1\n",
    "    token=subquery.tokens[k]\n",
    "    while token.ttype == sqlparse.tokens.Whitespace:\n",
    "        k+=1\n",
    "        token=subquery.tokens[k]\n",
    "    if type(token) != sqlparse.sql.Identifier:\n",
    "        continue\n",
    "    tableName = token[0].value\n",
    "    columnsList = curTableColumns[tableName]\n",
    "    metaDataColumnsList = tableMetadata[tableName]\n",
    "    findColumnsRecursively(columnsList, subquery, metaDataColumnsList, stmt)"
   ]
  },
  {
   "cell_type": "code",
   "execution_count": 134,
   "metadata": {},
   "outputs": [
    {
     "data": {
      "text/plain": [
       "{'posted_activities': ['id', 'token', 'type', 'payload', 'ts'],\n",
       " 'visitors': ['client', 'visitor_type', 'token'],\n",
       " 'activities': ['id',\n",
       "  'token',\n",
       "  'ts',\n",
       "  'event_type',\n",
       "  'event_source',\n",
       "  'user_id',\n",
       "  'car_id',\n",
       "  'case_id',\n",
       "  'text',\n",
       "  'mechanic_id',\n",
       "  'worker_id',\n",
       "  'tags',\n",
       "  'sp_ver',\n",
       "  'amount',\n",
       "  'zipcode',\n",
       "  'ready',\n",
       "  'count',\n",
       "  'time_amount',\n",
       "  'value',\n",
       "  'name',\n",
       "  'user_token',\n",
       "  'experiment_id',\n",
       "  'variation_id']}"
      ]
     },
     "execution_count": 134,
     "metadata": {},
     "output_type": "execute_result"
    }
   ],
   "source": [
    "curTableColumns"
   ]
  },
  {
   "cell_type": "code",
   "execution_count": null,
   "metadata": {},
   "outputs": [],
   "source": []
  }
 ],
 "metadata": {
  "kernelspec": {
   "display_name": "Python 3",
   "language": "python",
   "name": "python3"
  },
  "language_info": {
   "codemirror_mode": {
    "name": "ipython",
    "version": 3
   },
   "file_extension": ".py",
   "mimetype": "text/x-python",
   "name": "python",
   "nbconvert_exporter": "python",
   "pygments_lexer": "ipython3",
   "version": "3.6.0"
  }
 },
 "nbformat": 4,
 "nbformat_minor": 2
}
